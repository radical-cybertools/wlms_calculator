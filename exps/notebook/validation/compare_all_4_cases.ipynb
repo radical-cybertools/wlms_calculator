{
 "cells": [
  {
   "cell_type": "code",
   "execution_count": 1,
   "metadata": {},
   "outputs": [],
   "source": [
    "import os\n",
    "import sys\n",
    "from glob import glob\n",
    "import numpy as np\n",
    "from math import sqrt\n",
    "import pandas as pd\n",
    "import matplotlib.pyplot as plt\n",
    "import matplotlib as mpl\n",
    "from __future__ import unicode_literals\n",
    "from IPython.core.display import display, HTML\n",
    "from pprint import pprint \n",
    "import traceback\n",
    "\n",
    "import radical.utils     as ru\n",
    "import warnings\n",
    "import itertools\n",
    "import matplotlib\n",
    "\n",
    "warnings.filterwarnings('ignore')\n",
    "pd.set_option('expand_frame_repr', False)\n",
    "pd.set_option('display.max_rows', 50)\n",
    "matplotlib.use(\"Agg\")"
   ]
  },
  {
   "cell_type": "code",
   "execution_count": 2,
   "metadata": {},
   "outputs": [
    {
     "data": {
      "text/html": [
       "<style>.container { width:100% !important; }</style>"
      ],
      "text/plain": [
       "<IPython.core.display.HTML object>"
      ]
     },
     "metadata": {},
     "output_type": "display_data"
    }
   ],
   "source": [
    "# Global configurations\n",
    "# ---------------------\n",
    "\n",
    "# Expand the notebook to the width of the browser\n",
    "display(HTML(\"<style>.container { width:100% !important; }</style>\"))\n",
    "\n",
    "# Matplotlib style\n",
    "plt.style.use('seaborn-colorblind')\n",
    "\n",
    "# Use LaTeX and its body font for the diagrams' text.\n",
    "mpl.rcParams['text.usetex'] = False\n",
    "mpl.rcParams['text.latex.unicode'] = False\n",
    "mpl.rcParams['font.family'] = 'Average'\n",
    "# mpl.rcParams['font.serif']  = ['Nimbus Roman Becker No9L']\n",
    "\n",
    "# Font sizes\n",
    "SIZE = 24\n",
    "plt.rc('font', size=SIZE)  # controls default text sizes\n",
    "plt.rc('axes', titlesize=SIZE)  # fontsize of the axes title\n",
    "plt.rc('axes', labelsize=SIZE)  # fontsize of the x any y labels\n",
    "plt.rc('xtick', labelsize=SIZE)  # fontsize of the tick labels\n",
    "plt.rc('ytick', labelsize=SIZE)  # fontsize of the tick labels\n",
    "plt.rc('legend', fontsize=SIZE-2)  # legend fontsize\n",
    "plt.rc('figure', titlesize=SIZE)  # # size of the figure title\n",
    "\n",
    "# Use thinner lines for axes to avoid distractions.\n",
    "mpl.rcParams['axes.linewidth']    = 1\n",
    "mpl.rcParams['xtick.major.width'] = 1\n",
    "mpl.rcParams['xtick.minor.width'] = 1\n",
    "mpl.rcParams['ytick.major.width'] = 1\n",
    "mpl.rcParams['ytick.minor.width'] = 1\n",
    "mpl.rcParams['lines.linewidth'] = 2\n",
    "\n",
    "\n",
    "# Do not use a box for the legend to avoid distractions.\n",
    "mpl.rcParams['legend.frameon'] = False\n",
    "\n",
    "# Restore part of matplotlib 1.5 behavior\n",
    "mpl.rcParams['patch.force_edgecolor'] = True\n",
    "mpl.rcParams['errorbar.capsize'] = 3\n",
    "\n",
    "# Helpers\n",
    "# -------\n",
    "\n",
    "# Use coordinated colors. These are the \"Tableau 20\" colors as \n",
    "# RGB. Each pair is strong/light. For a theory of color    \n",
    "tableau20 = [(31 , 119, 180), (174, 199, 232), # blue        [ 0,1 ]\n",
    "             (255, 127, 14 ), (255, 187, 120), # orange      [ 2,3 ]\n",
    "             (44 , 160, 44 ), (152, 223, 138), # green       [ 4,5 ]\n",
    "             (214, 39 , 40 ), (255, 152, 150), # red         [ 6,7 ]\n",
    "             (148, 103, 189), (197, 176, 213), # purple      [ 8,9 ]\n",
    "             (140, 86 , 75 ), (196, 156, 148), # brown       [10,11]\n",
    "             (227, 119, 194), (247, 182, 210), # pink        [12,13]\n",
    "             (188, 189, 34 ), (219, 219, 141), # yellow      [14,15]\n",
    "             (23 , 190, 207), (158, 218, 229), # cyan        [16,17]\n",
    "             (65 , 68 , 81 ), (96 , 99 , 106), # gray        [18,19]\n",
    "             (127, 127, 127), (143, 135, 130), # gray        [20,21] \n",
    "             (165, 172, 175), (199, 199, 199), # gray        [22,23]\n",
    "             (207, 207, 207)]                   # gray        [24]\n",
    "  \n",
    "# Scale the RGB values to the [0, 1] range, which is the format \n",
    "# matplotlib accepts.    \n",
    "for i in range(len(tableau20)):  \n",
    "    r, g, b = tableau20[i]  \n",
    "    tableau20[i] = (r / 255., g / 255., b / 255.)    \n",
    "\n",
    "# Return a single plot without right and top axes\n",
    "def fig_setup(num_x, num_y, (size_x, size_y), (space_x, space_y)=(0.25,0.25)):\n",
    "    fig, axes = plt.subplots(num_x, num_y, figsize=(size_x, size_y), gridspec_kw={'wspace':space_x, 'hspace':space_y}, sharex=False, sharey=False)\n",
    "    if num_x == 1 and num_y == 1:\n",
    "        axes = [[axes]]\n",
    "#         for ax1 in axes:\n",
    "#             for ax2 in ax1:\n",
    "#                 ax2.get_xaxis().tick_bottom()  \n",
    "#                 ax2.get_yaxis().tick_left()\n",
    "    elif (num_x == 1 and num_y>1) or (num_x>1 and num_y == 1):\n",
    "        axes = [axes]\n",
    "#         for ax1 in axes:\n",
    "#             for ax2 in ax1:\n",
    "#                 ax2.get_xaxis().tick_bottom()  \n",
    "#                 ax2.get_yaxis().tick_left()\n",
    "    return fig, axes"
   ]
  },
  {
   "cell_type": "code",
   "execution_count": 17,
   "metadata": {},
   "outputs": [],
   "source": [
    "loc = '../../data/validation/'\n",
    "cases = 4\n",
    "trials = 30\n",
    "fontsize=18\n",
    "def parse_uids(uid):\n",
    "    new_uid = int(uid.split('.')[-1])\n",
    "    return new_uid"
   ]
  },
  {
   "cell_type": "code",
   "execution_count": 18,
   "metadata": {},
   "outputs": [],
   "source": [
    "def extract(loc):\n",
    "    df_dict = dict()\n",
    "    for x in glob('%s/profile.*'%loc):\n",
    "        json_data = ru.read_json(x)\n",
    "\n",
    "    keys = sorted(json_data.keys())\n",
    "    trials=30\n",
    "    cur_trial = 1\n",
    "    exp = 0\n",
    "    hets = list()\n",
    "\n",
    "    for key in keys:\n",
    "        if exp==0:\n",
    "            het = 0\n",
    "        else:\n",
    "            het = pow(2,exp)\n",
    "\n",
    "        if het not in hets:\n",
    "            hets.append(het)\n",
    "            df_dict[het] = dict()\n",
    "\n",
    "        prof = json_data[key]\n",
    "        df = pd.DataFrame.from_dict(prof)\n",
    "        df['core'] = df['core'].apply(parse_uids)\n",
    "        df['task'] = df['task'].apply(parse_uids)\n",
    "        df['perf'] = df['ops']/df['exec_time']\n",
    "\n",
    "        df_dict[het][cur_trial] = df\n",
    "        cur_trial +=1\n",
    "        if cur_trial > trials:\n",
    "            cur_trial = 1\n",
    "            exp+=1\n",
    "\n",
    "    return df_dict"
   ]
  },
  {
   "cell_type": "code",
   "execution_count": 19,
   "metadata": {},
   "outputs": [],
   "source": [
    "def transform(dfs):\n",
    "    hets = sorted(dfs.keys())\n",
    "    df = pd.DataFrame(columns=['het','ttx'])\n",
    "    df_err = pd.DataFrame(columns=['het','ttx'])\n",
    "    result = dict()\n",
    "    for het in hets:\n",
    "        ttx = list()\n",
    "        for t in range(1, trials+1):\n",
    "            ttx.append(dfs[het][t]['end_time'].max() - dfs[het][t]['start_time'].min())\n",
    "        result[het] = (np.mean(ttx), np.std(ttx))\n",
    "        \n",
    "    return result"
   ]
  },
  {
   "cell_type": "code",
   "execution_count": 23,
   "metadata": {},
   "outputs": [
    {
     "name": "stdout",
     "output_type": "stream",
     "text": [
      "       case-1      case-2      case-3      case-4\n",
      "0  256.000000  256.000000  256.000000  256.000000\n",
      "2  275.685275  270.027696  272.914586  257.696923\n",
      "4  298.297379  283.711049  279.368054  261.405695\n",
      "8  381.373802  321.471072  366.132875  269.776525\n",
      "      case-1     case-2     case-3     case-4\n",
      "0   0.000000   0.000000   0.000000   0.000000\n",
      "2  10.075768   3.623963  10.666967   2.949083\n",
      "4  25.240302   8.402648  22.664445   7.281313\n",
      "8  72.517468  19.351068  72.181277  15.271939\n"
     ]
    }
   ],
   "source": [
    "df = pd.DataFrame(columns=['case-%s'%x for x in range(1,5)], index=[0,2,4,8])\n",
    "df_err = pd.DataFrame(columns=['case-%s'%x for x in range(1,5)], index=[0,2,4,8])\n",
    "\n",
    "for case in range(1, 5):\n",
    "    tmp = extract(loc+'case-%s'%case)\n",
    "    res = transform(tmp)\n",
    "    avgs = [res[0][0], res[2][0], res[4][0], res[8][0]]\n",
    "    stds = [res[0][1], res[2][1], res[4][1], res[8][1]]\n",
    "    df['case-%s'%case] = avgs\n",
    "    df_err['case-%s'%case] = stds"
   ]
  },
  {
   "cell_type": "code",
   "execution_count": 24,
   "metadata": {},
   "outputs": [
    {
     "name": "stdout",
     "output_type": "stream",
     "text": [
      "       case-1      case-2      case-3      case-4\n",
      "0  256.000000  256.000000  256.000000  256.000000\n",
      "2  275.685275  270.027696  272.914586  257.696923\n",
      "4  298.297379  283.711049  279.368054  261.405695\n",
      "8  381.373802  321.471072  366.132875  269.776525\n",
      "      case-1     case-2     case-3     case-4\n",
      "0   0.000000   0.000000   0.000000   0.000000\n",
      "2  10.075768   3.623963  10.666967   2.949083\n",
      "4  25.240302   8.402648  22.664445   7.281313\n",
      "8  72.517468  19.351068  72.181277  15.271939\n"
     ]
    }
   ],
   "source": [
    "print df\n",
    "print df_err"
   ]
  },
  {
   "cell_type": "code",
   "execution_count": 39,
   "metadata": {},
   "outputs": [
    {
     "data": {
      "image/png": "[encoded data removed]",
      "text/plain": [
       "<Figure size 864x720 with 1 Axes>"
      ]
     },
     "metadata": {
      "needs_background": "light"
     },
     "output_type": "display_data"
    }
   ],
   "source": [
    "fig, axes = fig_setup(1,1,(12,10), (0.35,0.35))\n",
    "title = 'Fluctuation in TTX as a function of heterogeinity, \\n dynamism under 4 different cases'\n",
    "fig.suptitle(title, y=0.95)\n",
    "\n",
    "ax = df.plot(ax=axes[0][0], kind='bar', yerr=df_err)\n",
    "# ax.set_xscale('log',basex=2)\n",
    "ax.set_xticklabels([0,6.25,12.5,25], rotation=0)\n",
    "# ax.set_xticks([0,6.25,12.5,25])\n",
    "ax.set_xlabel('Heterogeneity (%)')\n",
    "ax.set_ylabel('Total time to execution (seconds)')\n",
    "ax.set_ylim(0,500)\n",
    "fname = 'ttx_4_cases.png'\n",
    "fig.savefig('plots/%s'%fname)"
   ]
  },
  {
   "cell_type": "code",
   "execution_count": null,
   "metadata": {},
   "outputs": [],
   "source": []
  }
 ],
 "metadata": {
  "kernelspec": {
   "display_name": "Python 2",
   "language": "python",
   "name": "python2"
  },
  "language_info": {
   "codemirror_mode": {
    "name": "ipython",
    "version": 2
   },
   "file_extension": ".py",
   "mimetype": "text/x-python",
   "name": "python",
   "nbconvert_exporter": "python",
   "pygments_lexer": "ipython2",
   "version": "2.7.15"
  }
 },
 "nbformat": 4,
 "nbformat_minor": 2
}
